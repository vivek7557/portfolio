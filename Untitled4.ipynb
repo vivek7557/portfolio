{
 "cells": [
  {
   "cell_type": "code",
   "execution_count": null,
   "id": "675ce121",
   "metadata": {},
   "outputs": [],
   "source": [
    "what is nlp"
   ]
  },
  {
   "cell_type": "code",
   "execution_count": null,
   "id": "0f5bc639",
   "metadata": {},
   "outputs": [],
   "source": [
    "clean up"
   ]
  },
  {
   "cell_type": "code",
   "execution_count": null,
   "id": "1267eab1",
   "metadata": {},
   "outputs": [],
   "source": [
    "tokenization"
   ]
  },
  {
   "cell_type": "code",
   "execution_count": null,
   "id": "95c3dc2c",
   "metadata": {},
   "outputs": [],
   "source": [
    "application of nlp"
   ]
  },
  {
   "cell_type": "code",
   "execution_count": null,
   "id": "d27452ba",
   "metadata": {},
   "outputs": [],
   "source": [
    "steaming\n",
    "\n",
    "eemoving suffix and prefixes and create a original word"
   ]
  },
  {
   "cell_type": "code",
   "execution_count": null,
   "id": "b2356b3a",
   "metadata": {},
   "outputs": [],
   "source": [
    "leminization"
   ]
  },
  {
   "cell_type": "code",
   "execution_count": null,
   "id": "060732e2",
   "metadata": {},
   "outputs": [],
   "source": [
    "nlp ambiguty"
   ]
  },
  {
   "cell_type": "code",
   "execution_count": null,
   "id": "4820ff7a",
   "metadata": {},
   "outputs": [],
   "source": [
    "bigram,trigram,ngraM"
   ]
  },
  {
   "cell_type": "code",
   "execution_count": null,
   "id": "57241d8f",
   "metadata": {},
   "outputs": [],
   "source": [
    "word2vector"
   ]
  },
  {
   "cell_type": "code",
   "execution_count": null,
   "id": "813b798b",
   "metadata": {},
   "outputs": [],
   "source": [
    "loss function"
   ]
  },
  {
   "cell_type": "code",
   "execution_count": null,
   "id": "2b4b29cd",
   "metadata": {},
   "outputs": [],
   "source": []
  },
  {
   "cell_type": "code",
   "execution_count": null,
   "id": "d4dfbb62",
   "metadata": {},
   "outputs": [],
   "source": []
  },
  {
   "cell_type": "code",
   "execution_count": null,
   "id": "5b73fa62",
   "metadata": {},
   "outputs": [],
   "source": []
  },
  {
   "cell_type": "code",
   "execution_count": null,
   "id": "63316083",
   "metadata": {},
   "outputs": [],
   "source": []
  },
  {
   "cell_type": "code",
   "execution_count": null,
   "id": "f32eaf77",
   "metadata": {},
   "outputs": [],
   "source": []
  }
 ],
 "metadata": {
  "kernelspec": {
   "display_name": "Python 3 (ipykernel)",
   "language": "python",
   "name": "python3"
  },
  "language_info": {
   "codemirror_mode": {
    "name": "ipython",
    "version": 3
   },
   "file_extension": ".py",
   "mimetype": "text/x-python",
   "name": "python",
   "nbconvert_exporter": "python",
   "pygments_lexer": "ipython3",
   "version": "3.9.13"
  }
 },
 "nbformat": 4,
 "nbformat_minor": 5
}
