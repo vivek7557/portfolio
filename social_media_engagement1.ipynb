{
 "cells": [
  {
   "cell_type": "code",
   "execution_count": 1,
   "id": "9fc62d05-b269-48b2-8810-da56825b8245",
   "metadata": {},
   "outputs": [],
   "source": [
    "#we want to do sentiment analysis"
   ]
  },
  {
   "cell_type": "code",
   "execution_count": 2,
   "id": "05007078-c2db-47ce-b2c6-8b367a45ac9e",
   "metadata": {},
   "outputs": [],
   "source": [
    "import numpy as np\n",
    "import pandas as pd\n",
    "import seaborn as sns\n",
    "import matplotlib.pyplot as plt"
   ]
  },
  {
   "cell_type": "code",
   "execution_count": 3,
   "id": "d1a6eed1-66e4-4dea-ab55-3aeb4637f977",
   "metadata": {},
   "outputs": [],
   "source": [
    "df=pd.read_csv('social_media_engagement1.csv')"
   ]
  },
  {
   "cell_type": "code",
   "execution_count": 4,
   "id": "caea219e-c61e-41e5-8647-afe50494514e",
   "metadata": {},
   "outputs": [
    {
     "data": {
      "text/html": [
       "<div>\n",
       "<style scoped>\n",
       "    .dataframe tbody tr th:only-of-type {\n",
       "        vertical-align: middle;\n",
       "    }\n",
       "\n",
       "    .dataframe tbody tr th {\n",
       "        vertical-align: top;\n",
       "    }\n",
       "\n",
       "    .dataframe thead th {\n",
       "        text-align: right;\n",
       "    }\n",
       "</style>\n",
       "<table border=\"1\" class=\"dataframe\">\n",
       "  <thead>\n",
       "    <tr style=\"text-align: right;\">\n",
       "      <th></th>\n",
       "      <th>post_id</th>\n",
       "      <th>platform</th>\n",
       "      <th>post_type</th>\n",
       "      <th>post_time</th>\n",
       "      <th>likes</th>\n",
       "      <th>comments</th>\n",
       "      <th>shares</th>\n",
       "      <th>post_day</th>\n",
       "      <th>sentiment_score</th>\n",
       "    </tr>\n",
       "  </thead>\n",
       "  <tbody>\n",
       "    <tr>\n",
       "      <th>0</th>\n",
       "      <td>1</td>\n",
       "      <td>Facebook</td>\n",
       "      <td>image</td>\n",
       "      <td>8/17/2023 14:45</td>\n",
       "      <td>2121</td>\n",
       "      <td>474</td>\n",
       "      <td>628</td>\n",
       "      <td>Thursday</td>\n",
       "      <td>positive</td>\n",
       "    </tr>\n",
       "    <tr>\n",
       "      <th>1</th>\n",
       "      <td>2</td>\n",
       "      <td>Facebook</td>\n",
       "      <td>carousel</td>\n",
       "      <td>5/14/2023 0:45</td>\n",
       "      <td>3660</td>\n",
       "      <td>432</td>\n",
       "      <td>694</td>\n",
       "      <td>Sunday</td>\n",
       "      <td>neutral</td>\n",
       "    </tr>\n",
       "    <tr>\n",
       "      <th>2</th>\n",
       "      <td>3</td>\n",
       "      <td>Instagram</td>\n",
       "      <td>poll</td>\n",
       "      <td>2/21/2023 16:15</td>\n",
       "      <td>4955</td>\n",
       "      <td>408</td>\n",
       "      <td>688</td>\n",
       "      <td>Tuesday</td>\n",
       "      <td>negative</td>\n",
       "    </tr>\n",
       "    <tr>\n",
       "      <th>3</th>\n",
       "      <td>4</td>\n",
       "      <td>Twitter</td>\n",
       "      <td>image</td>\n",
       "      <td>11/16/2023 0:45</td>\n",
       "      <td>1183</td>\n",
       "      <td>90</td>\n",
       "      <td>187</td>\n",
       "      <td>Thursday</td>\n",
       "      <td>negative</td>\n",
       "    </tr>\n",
       "    <tr>\n",
       "      <th>4</th>\n",
       "      <td>5</td>\n",
       "      <td>Twitter</td>\n",
       "      <td>video</td>\n",
       "      <td>5/23/2023 0:30</td>\n",
       "      <td>3499</td>\n",
       "      <td>247</td>\n",
       "      <td>286</td>\n",
       "      <td>Tuesday</td>\n",
       "      <td>positive</td>\n",
       "    </tr>\n",
       "  </tbody>\n",
       "</table>\n",
       "</div>"
      ],
      "text/plain": [
       "   post_id   platform post_type        post_time  likes  comments  shares  \\\n",
       "0        1   Facebook     image  8/17/2023 14:45   2121       474     628   \n",
       "1        2   Facebook  carousel   5/14/2023 0:45   3660       432     694   \n",
       "2        3  Instagram      poll  2/21/2023 16:15   4955       408     688   \n",
       "3        4    Twitter     image  11/16/2023 0:45   1183        90     187   \n",
       "4        5    Twitter     video   5/23/2023 0:30   3499       247     286   \n",
       "\n",
       "   post_day sentiment_score  \n",
       "0  Thursday        positive  \n",
       "1    Sunday         neutral  \n",
       "2   Tuesday        negative  \n",
       "3  Thursday        negative  \n",
       "4   Tuesday        positive  "
      ]
     },
     "execution_count": 4,
     "metadata": {},
     "output_type": "execute_result"
    }
   ],
   "source": [
    "df.head()"
   ]
  },
  {
   "cell_type": "code",
   "execution_count": 5,
   "id": "b9725baf-f9cf-48cb-8710-d719bb33484b",
   "metadata": {},
   "outputs": [
    {
     "name": "stdout",
     "output_type": "stream",
     "text": [
      "<class 'pandas.core.frame.DataFrame'>\n",
      "RangeIndex: 100 entries, 0 to 99\n",
      "Data columns (total 9 columns):\n",
      " #   Column           Non-Null Count  Dtype \n",
      "---  ------           --------------  ----- \n",
      " 0   post_id          100 non-null    int64 \n",
      " 1   platform         100 non-null    object\n",
      " 2   post_type        100 non-null    object\n",
      " 3   post_time        100 non-null    object\n",
      " 4   likes            100 non-null    int64 \n",
      " 5   comments         100 non-null    int64 \n",
      " 6   shares           100 non-null    int64 \n",
      " 7   post_day         100 non-null    object\n",
      " 8   sentiment_score  100 non-null    object\n",
      "dtypes: int64(4), object(5)\n",
      "memory usage: 7.2+ KB\n"
     ]
    },
    {
     "data": {
      "text/plain": [
       "post_id             int64\n",
       "platform           object\n",
       "post_type          object\n",
       "post_time          object\n",
       "likes               int64\n",
       "comments            int64\n",
       "shares              int64\n",
       "post_day           object\n",
       "sentiment_score    object\n",
       "dtype: object"
      ]
     },
     "execution_count": 5,
     "metadata": {},
     "output_type": "execute_result"
    }
   ],
   "source": [
    "df.info()\n",
    "df.isnull().sum\n",
    "df.info\n",
    "df.dtypes"
   ]
  },
  {
   "cell_type": "code",
   "execution_count": 6,
   "id": "30dff1b5-47ab-4a19-a042-33b1f9e13075",
   "metadata": {},
   "outputs": [
    {
     "name": "stdout",
     "output_type": "stream",
     "text": [
      "<class 'pandas.core.frame.DataFrame'>\n",
      "RangeIndex: 100 entries, 0 to 99\n",
      "Data columns (total 9 columns):\n",
      " #   Column           Non-Null Count  Dtype \n",
      "---  ------           --------------  ----- \n",
      " 0   post_id          100 non-null    int64 \n",
      " 1   platform         100 non-null    object\n",
      " 2   post_type        100 non-null    object\n",
      " 3   post_time        100 non-null    object\n",
      " 4   likes            100 non-null    int64 \n",
      " 5   comments         100 non-null    int64 \n",
      " 6   shares           100 non-null    int64 \n",
      " 7   post_day         100 non-null    object\n",
      " 8   sentiment_score  100 non-null    object\n",
      "dtypes: int64(4), object(5)\n",
      "memory usage: 7.2+ KB\n",
      "<class 'pandas.core.frame.DataFrame'>\n",
      "RangeIndex: 100 entries, 0 to 99\n",
      "Data columns (total 9 columns):\n",
      " #   Column           Non-Null Count  Dtype \n",
      "---  ------           --------------  ----- \n",
      " 0   post_id          100 non-null    int64 \n",
      " 1   platform         100 non-null    object\n",
      " 2   post_type        100 non-null    object\n",
      " 3   post_time        100 non-null    object\n",
      " 4   likes            100 non-null    int64 \n",
      " 5   comments         100 non-null    int64 \n",
      " 6   shares           100 non-null    int64 \n",
      " 7   post_day         100 non-null    object\n",
      " 8   sentiment_score  100 non-null    object\n",
      "dtypes: int64(4), object(5)\n",
      "memory usage: 7.2+ KB\n"
     ]
    },
    {
     "data": {
      "text/plain": [
       "post_id             int64\n",
       "platform           object\n",
       "post_type          object\n",
       "post_time          object\n",
       "likes               int64\n",
       "comments            int64\n",
       "shares              int64\n",
       "post_day           object\n",
       "sentiment_score    object\n",
       "dtype: object"
      ]
     },
     "execution_count": 6,
     "metadata": {},
     "output_type": "execute_result"
    }
   ],
   "source": [
    "# Corrected code\n",
    "df.info()  # This is correct - shows information about the DataFrame\n",
    "\n",
    "df.isnull().sum()  # Added parentheses to call the sum method\n",
    "# This counts the number of null values in each column\n",
    "\n",
    "df.info()  # Added parentheses to call the info method\n",
    "\n",
    "# Instead of df.Datatype which doesn't exist, use dtypes attribute\n",
    "df.dtypes  # This shows the data types of each column in the DataFrame"
   ]
  },
  {
   "cell_type": "code",
   "execution_count": 7,
   "id": "b956c7b4-9b3c-49a1-8485-e6d1eca7dac5",
   "metadata": {},
   "outputs": [
    {
     "data": {
      "text/html": [
       "<div>\n",
       "<style scoped>\n",
       "    .dataframe tbody tr th:only-of-type {\n",
       "        vertical-align: middle;\n",
       "    }\n",
       "\n",
       "    .dataframe tbody tr th {\n",
       "        vertical-align: top;\n",
       "    }\n",
       "\n",
       "    .dataframe thead th {\n",
       "        text-align: right;\n",
       "    }\n",
       "</style>\n",
       "<table border=\"1\" class=\"dataframe\">\n",
       "  <thead>\n",
       "    <tr style=\"text-align: right;\">\n",
       "      <th></th>\n",
       "      <th>post_id</th>\n",
       "      <th>likes</th>\n",
       "      <th>comments</th>\n",
       "      <th>shares</th>\n",
       "    </tr>\n",
       "  </thead>\n",
       "  <tbody>\n",
       "    <tr>\n",
       "      <th>count</th>\n",
       "      <td>100.000000</td>\n",
       "      <td>100.000000</td>\n",
       "      <td>100.00000</td>\n",
       "      <td>100.000000</td>\n",
       "    </tr>\n",
       "    <tr>\n",
       "      <th>mean</th>\n",
       "      <td>50.500000</td>\n",
       "      <td>2381.810000</td>\n",
       "      <td>202.66000</td>\n",
       "      <td>415.650000</td>\n",
       "    </tr>\n",
       "    <tr>\n",
       "      <th>std</th>\n",
       "      <td>29.011492</td>\n",
       "      <td>1632.573284</td>\n",
       "      <td>138.84067</td>\n",
       "      <td>283.877601</td>\n",
       "    </tr>\n",
       "    <tr>\n",
       "      <th>min</th>\n",
       "      <td>1.000000</td>\n",
       "      <td>15.000000</td>\n",
       "      <td>10.00000</td>\n",
       "      <td>16.000000</td>\n",
       "    </tr>\n",
       "    <tr>\n",
       "      <th>25%</th>\n",
       "      <td>25.750000</td>\n",
       "      <td>895.750000</td>\n",
       "      <td>89.75000</td>\n",
       "      <td>183.000000</td>\n",
       "    </tr>\n",
       "    <tr>\n",
       "      <th>50%</th>\n",
       "      <td>50.500000</td>\n",
       "      <td>2220.000000</td>\n",
       "      <td>171.00000</td>\n",
       "      <td>356.500000</td>\n",
       "    </tr>\n",
       "    <tr>\n",
       "      <th>75%</th>\n",
       "      <td>75.250000</td>\n",
       "      <td>3593.250000</td>\n",
       "      <td>299.00000</td>\n",
       "      <td>689.500000</td>\n",
       "    </tr>\n",
       "    <tr>\n",
       "      <th>max</th>\n",
       "      <td>100.000000</td>\n",
       "      <td>5000.000000</td>\n",
       "      <td>500.00000</td>\n",
       "      <td>993.000000</td>\n",
       "    </tr>\n",
       "  </tbody>\n",
       "</table>\n",
       "</div>"
      ],
      "text/plain": [
       "          post_id        likes   comments      shares\n",
       "count  100.000000   100.000000  100.00000  100.000000\n",
       "mean    50.500000  2381.810000  202.66000  415.650000\n",
       "std     29.011492  1632.573284  138.84067  283.877601\n",
       "min      1.000000    15.000000   10.00000   16.000000\n",
       "25%     25.750000   895.750000   89.75000  183.000000\n",
       "50%     50.500000  2220.000000  171.00000  356.500000\n",
       "75%     75.250000  3593.250000  299.00000  689.500000\n",
       "max    100.000000  5000.000000  500.00000  993.000000"
      ]
     },
     "execution_count": 7,
     "metadata": {},
     "output_type": "execute_result"
    }
   ],
   "source": [
    "df.describe()"
   ]
  },
  {
   "cell_type": "code",
   "execution_count": 8,
   "id": "53935dba-5852-4cf8-8c87-fd84433a2929",
   "metadata": {},
   "outputs": [],
   "source": [
    "df['post_time'] = pd.to_datetime(df['post_time'])"
   ]
  },
  {
   "cell_type": "code",
   "execution_count": 9,
   "id": "767b3dc4-97b4-48d7-93e1-b6e32385b42f",
   "metadata": {},
   "outputs": [
    {
     "data": {
      "text/html": [
       "<div>\n",
       "<style scoped>\n",
       "    .dataframe tbody tr th:only-of-type {\n",
       "        vertical-align: middle;\n",
       "    }\n",
       "\n",
       "    .dataframe tbody tr th {\n",
       "        vertical-align: top;\n",
       "    }\n",
       "\n",
       "    .dataframe thead th {\n",
       "        text-align: right;\n",
       "    }\n",
       "</style>\n",
       "<table border=\"1\" class=\"dataframe\">\n",
       "  <thead>\n",
       "    <tr style=\"text-align: right;\">\n",
       "      <th></th>\n",
       "      <th>post_id</th>\n",
       "      <th>platform</th>\n",
       "      <th>post_type</th>\n",
       "      <th>post_time</th>\n",
       "      <th>likes</th>\n",
       "      <th>comments</th>\n",
       "      <th>shares</th>\n",
       "      <th>post_day</th>\n",
       "      <th>sentiment_score</th>\n",
       "    </tr>\n",
       "  </thead>\n",
       "  <tbody>\n",
       "    <tr>\n",
       "      <th>0</th>\n",
       "      <td>1</td>\n",
       "      <td>Facebook</td>\n",
       "      <td>image</td>\n",
       "      <td>2023-08-17 14:45:00</td>\n",
       "      <td>2121</td>\n",
       "      <td>474</td>\n",
       "      <td>628</td>\n",
       "      <td>Thursday</td>\n",
       "      <td>positive</td>\n",
       "    </tr>\n",
       "    <tr>\n",
       "      <th>1</th>\n",
       "      <td>2</td>\n",
       "      <td>Facebook</td>\n",
       "      <td>carousel</td>\n",
       "      <td>2023-05-14 00:45:00</td>\n",
       "      <td>3660</td>\n",
       "      <td>432</td>\n",
       "      <td>694</td>\n",
       "      <td>Sunday</td>\n",
       "      <td>neutral</td>\n",
       "    </tr>\n",
       "    <tr>\n",
       "      <th>2</th>\n",
       "      <td>3</td>\n",
       "      <td>Instagram</td>\n",
       "      <td>poll</td>\n",
       "      <td>2023-02-21 16:15:00</td>\n",
       "      <td>4955</td>\n",
       "      <td>408</td>\n",
       "      <td>688</td>\n",
       "      <td>Tuesday</td>\n",
       "      <td>negative</td>\n",
       "    </tr>\n",
       "    <tr>\n",
       "      <th>3</th>\n",
       "      <td>4</td>\n",
       "      <td>Twitter</td>\n",
       "      <td>image</td>\n",
       "      <td>2023-11-16 00:45:00</td>\n",
       "      <td>1183</td>\n",
       "      <td>90</td>\n",
       "      <td>187</td>\n",
       "      <td>Thursday</td>\n",
       "      <td>negative</td>\n",
       "    </tr>\n",
       "    <tr>\n",
       "      <th>4</th>\n",
       "      <td>5</td>\n",
       "      <td>Twitter</td>\n",
       "      <td>video</td>\n",
       "      <td>2023-05-23 00:30:00</td>\n",
       "      <td>3499</td>\n",
       "      <td>247</td>\n",
       "      <td>286</td>\n",
       "      <td>Tuesday</td>\n",
       "      <td>positive</td>\n",
       "    </tr>\n",
       "  </tbody>\n",
       "</table>\n",
       "</div>"
      ],
      "text/plain": [
       "   post_id   platform post_type           post_time  likes  comments  shares  \\\n",
       "0        1   Facebook     image 2023-08-17 14:45:00   2121       474     628   \n",
       "1        2   Facebook  carousel 2023-05-14 00:45:00   3660       432     694   \n",
       "2        3  Instagram      poll 2023-02-21 16:15:00   4955       408     688   \n",
       "3        4    Twitter     image 2023-11-16 00:45:00   1183        90     187   \n",
       "4        5    Twitter     video 2023-05-23 00:30:00   3499       247     286   \n",
       "\n",
       "   post_day sentiment_score  \n",
       "0  Thursday        positive  \n",
       "1    Sunday         neutral  \n",
       "2   Tuesday        negative  \n",
       "3  Thursday        negative  \n",
       "4   Tuesday        positive  "
      ]
     },
     "execution_count": 9,
     "metadata": {},
     "output_type": "execute_result"
    }
   ],
   "source": [
    "df.head()"
   ]
  },
  {
   "cell_type": "code",
   "execution_count": 10,
   "id": "765798d4-fbc8-4203-a775-24e9315688e8",
   "metadata": {},
   "outputs": [
    {
     "name": "stderr",
     "output_type": "stream",
     "text": [
      "/opt/conda/envs/anaconda-2024.02-py310/lib/python3.10/site-packages/seaborn/_oldcore.py:1119: FutureWarning: use_inf_as_na option is deprecated and will be removed in a future version. Convert inf values to NaN before operating instead.\n",
      "  with pd.option_context('mode.use_inf_as_na', True):\n"
     ]
    },
    {
     "data": {
      "image/png": "[encoded data removed]",
      "text/plain": [
       "<Figure size 640x480 with 1 Axes>"
      ]
     },
     "metadata": {},
     "output_type": "display_data"
    }
   ],
   "source": [
    "#Distribution Plots\n",
    "sns.histplot(df['likes'], bins=30)\n",
    "plt.title(\"Distribution of Likes\")\n",
    "plt.show()\n"
   ]
  },
  {
   "cell_type": "code",
   "execution_count": 11,
   "id": "a2f8b935-0983-4476-8c97-6a33fcf466da",
   "metadata": {},
   "outputs": [
    {
     "data": {
      "text/html": [
       "<div>\n",
       "<style scoped>\n",
       "    .dataframe tbody tr th:only-of-type {\n",
       "        vertical-align: middle;\n",
       "    }\n",
       "\n",
       "    .dataframe tbody tr th {\n",
       "        vertical-align: top;\n",
       "    }\n",
       "\n",
       "    .dataframe thead th {\n",
       "        text-align: right;\n",
       "    }\n",
       "</style>\n",
       "<table border=\"1\" class=\"dataframe\">\n",
       "  <thead>\n",
       "    <tr style=\"text-align: right;\">\n",
       "      <th></th>\n",
       "      <th>likes</th>\n",
       "      <th>comments</th>\n",
       "      <th>shares</th>\n",
       "    </tr>\n",
       "    <tr>\n",
       "      <th>post_type</th>\n",
       "      <th></th>\n",
       "      <th></th>\n",
       "      <th></th>\n",
       "    </tr>\n",
       "  </thead>\n",
       "  <tbody>\n",
       "    <tr>\n",
       "      <th>carousel</th>\n",
       "      <td>2263.576923</td>\n",
       "      <td>236.000000</td>\n",
       "      <td>531.153846</td>\n",
       "    </tr>\n",
       "    <tr>\n",
       "      <th>image</th>\n",
       "      <td>2032.764706</td>\n",
       "      <td>197.176471</td>\n",
       "      <td>371.529412</td>\n",
       "    </tr>\n",
       "    <tr>\n",
       "      <th>poll</th>\n",
       "      <td>3061.076923</td>\n",
       "      <td>214.538462</td>\n",
       "      <td>470.769231</td>\n",
       "    </tr>\n",
       "    <tr>\n",
       "      <th>text</th>\n",
       "      <td>1815.285714</td>\n",
       "      <td>138.380952</td>\n",
       "      <td>274.952381</td>\n",
       "    </tr>\n",
       "    <tr>\n",
       "      <th>video</th>\n",
       "      <td>2906.782609</td>\n",
       "      <td>221.000000</td>\n",
       "      <td>415.000000</td>\n",
       "    </tr>\n",
       "  </tbody>\n",
       "</table>\n",
       "</div>"
      ],
      "text/plain": [
       "                 likes    comments      shares\n",
       "post_type                                     \n",
       "carousel   2263.576923  236.000000  531.153846\n",
       "image      2032.764706  197.176471  371.529412\n",
       "poll       3061.076923  214.538462  470.769231\n",
       "text       1815.285714  138.380952  274.952381\n",
       "video      2906.782609  221.000000  415.000000"
      ]
     },
     "execution_count": 11,
     "metadata": {},
     "output_type": "execute_result"
    }
   ],
   "source": [
    "#Engagement by Platform and Post Type\n",
    "df.groupby('platform')[['likes', 'comments', 'shares']].mean()\n",
    "df.groupby('post_type')[['likes', 'comments', 'shares']].mean()"
   ]
  },
  {
   "cell_type": "code",
   "execution_count": 12,
   "id": "7dccb167-be2d-421e-9b75-45e55460598d",
   "metadata": {},
   "outputs": [
    {
     "data": {
      "text/plain": [
       "sentiment_score\n",
       "positive    46\n",
       "neutral     27\n",
       "negative    27\n",
       "Name: count, dtype: int64"
      ]
     },
     "execution_count": 12,
     "metadata": {},
     "output_type": "execute_result"
    }
   ],
   "source": [
    "# Sentiment Analysis\n",
    "df['sentiment_score'].value_counts()\n"
   ]
  },
  {
   "cell_type": "code",
   "execution_count": 13,
   "id": "cef922d6-617f-457b-b50b-52e416882f7c",
   "metadata": {},
   "outputs": [
    {
     "data": {
      "text/plain": [
       "<Axes: xlabel='post_time'>"
      ]
     },
     "execution_count": 13,
     "metadata": {},
     "output_type": "execute_result"
    },
    {
     "data": {
      "image/png": "[encoded data removed]",
      "text/plain": [
       "<Figure size 640x480 with 1 Axes>"
      ]
     },
     "metadata": {},
     "output_type": "display_data"
    }
   ],
   "source": [
    "#Time Series Trends\n",
    "df.set_index('post_time').resample('W')[['likes', 'comments', 'shares']].mean().plot()\n"
   ]
  },
  {
   "cell_type": "code",
   "execution_count": 14,
   "id": "c54d77d6-0efe-43ba-af33-91d4242e6bfe",
   "metadata": {},
   "outputs": [],
   "source": [
    "# preprocessing\n",
    "\n",
    "from sklearn.model_selection import train_test_split\n",
    "from sklearn.ensemble import RandomForestClassifier\n",
    "from sklearn.metrics import classification_report\n",
    "from sklearn.preprocessing import LabelEncoder\n",
    "\n",
    "# Load your CSV\n",
    "#df = pd.read_csv(\"social_media_engagement1.csv\")\n",
    "\n",
    "# Convert 'post_time' to datetime\n",
    "df['post_time'] = pd.to_datetime(df['post_time'])\n",
    "\n",
    "# Extract time features\n",
    "df['hour'] = df['post_time'].dt.hour\n",
    "df['day'] = df['post_time'].dt.day\n",
    "df['month'] = df['post_time'].dt.month\n",
    "\n",
    "# One-hot encode categorical features\n",
    "df = pd.get_dummies(df, columns=['platform', 'post_type', 'post_day'])\n",
    "\n",
    "# Encode the target variable\n",
    "le = LabelEncoder()\n",
    "df['sentiment_encoded'] = le.fit_transform(df['sentiment_score'])\n"
   ]
  },
  {
   "cell_type": "code",
   "execution_count": 15,
   "id": "92d08a18-69fb-4b1f-81af-44c680dd0ab3",
   "metadata": {},
   "outputs": [],
   "source": [
    "X = df.drop(columns=['post_id', 'post_time', 'sentiment_score', 'sentiment_encoded'])\n",
    "y = df['sentiment_encoded']\n",
    "\n",
    "X_train, X_test, y_train, y_test = train_test_split(X, y, test_size=0.2, random_state=42)\n"
   ]
  },
  {
   "cell_type": "code",
   "execution_count": 16,
   "id": "cc604036-12a9-4ed6-9958-20ce3f827a3e",
   "metadata": {},
   "outputs": [
    {
     "data": {
      "text/html": [
       "<style>#sk-container-id-1 {color: black;background-color: white;}#sk-container-id-1 pre{padding: 0;}#sk-container-id-1 div.sk-toggleable {background-color: white;}#sk-container-id-1 label.sk-toggleable__label {cursor: pointer;display: block;width: 100%;margin-bottom: 0;padding: 0.3em;box-sizing: border-box;text-align: center;}#sk-container-id-1 label.sk-toggleable__label-arrow:before {content: \"▸\";float: left;margin-right: 0.25em;color: #696969;}#sk-container-id-1 label.sk-toggleable__label-arrow:hover:before {color: black;}#sk-container-id-1 div.sk-estimator:hover label.sk-toggleable__label-arrow:before {color: black;}#sk-container-id-1 div.sk-toggleable__content {max-height: 0;max-width: 0;overflow: hidden;text-align: left;background-color: #f0f8ff;}#sk-container-id-1 div.sk-toggleable__content pre {margin: 0.2em;color: black;border-radius: 0.25em;background-color: #f0f8ff;}#sk-container-id-1 input.sk-toggleable__control:checked~div.sk-toggleable__content {max-height: 200px;max-width: 100%;overflow: auto;}#sk-container-id-1 input.sk-toggleable__control:checked~label.sk-toggleable__label-arrow:before {content: \"▾\";}#sk-container-id-1 div.sk-estimator input.sk-toggleable__control:checked~label.sk-toggleable__label {background-color: #d4ebff;}#sk-container-id-1 div.sk-label input.sk-toggleable__control:checked~label.sk-toggleable__label {background-color: #d4ebff;}#sk-container-id-1 input.sk-hidden--visually {border: 0;clip: rect(1px 1px 1px 1px);clip: rect(1px, 1px, 1px, 1px);height: 1px;margin: -1px;overflow: hidden;padding: 0;position: absolute;width: 1px;}#sk-container-id-1 div.sk-estimator {font-family: monospace;background-color: #f0f8ff;border: 1px dotted black;border-radius: 0.25em;box-sizing: border-box;margin-bottom: 0.5em;}#sk-container-id-1 div.sk-estimator:hover {background-color: #d4ebff;}#sk-container-id-1 div.sk-parallel-item::after {content: \"\";width: 100%;border-bottom: 1px solid gray;flex-grow: 1;}#sk-container-id-1 div.sk-label:hover label.sk-toggleable__label {background-color: #d4ebff;}#sk-container-id-1 div.sk-serial::before {content: \"\";position: absolute;border-left: 1px solid gray;box-sizing: border-box;top: 0;bottom: 0;left: 50%;z-index: 0;}#sk-container-id-1 div.sk-serial {display: flex;flex-direction: column;align-items: center;background-color: white;padding-right: 0.2em;padding-left: 0.2em;position: relative;}#sk-container-id-1 div.sk-item {position: relative;z-index: 1;}#sk-container-id-1 div.sk-parallel {display: flex;align-items: stretch;justify-content: center;background-color: white;position: relative;}#sk-container-id-1 div.sk-item::before, #sk-container-id-1 div.sk-parallel-item::before {content: \"\";position: absolute;border-left: 1px solid gray;box-sizing: border-box;top: 0;bottom: 0;left: 50%;z-index: -1;}#sk-container-id-1 div.sk-parallel-item {display: flex;flex-direction: column;z-index: 1;position: relative;background-color: white;}#sk-container-id-1 div.sk-parallel-item:first-child::after {align-self: flex-end;width: 50%;}#sk-container-id-1 div.sk-parallel-item:last-child::after {align-self: flex-start;width: 50%;}#sk-container-id-1 div.sk-parallel-item:only-child::after {width: 0;}#sk-container-id-1 div.sk-dashed-wrapped {border: 1px dashed gray;margin: 0 0.4em 0.5em 0.4em;box-sizing: border-box;padding-bottom: 0.4em;background-color: white;}#sk-container-id-1 div.sk-label label {font-family: monospace;font-weight: bold;display: inline-block;line-height: 1.2em;}#sk-container-id-1 div.sk-label-container {text-align: center;}#sk-container-id-1 div.sk-container {/* jupyter's `normalize.less` sets `[hidden] { display: none; }` but bootstrap.min.css set `[hidden] { display: none !important; }` so we also need the `!important` here to be able to override the default hidden behavior on the sphinx rendered scikit-learn.org. See: https://github.com/scikit-learn/scikit-learn/issues/21755 */display: inline-block !important;position: relative;}#sk-container-id-1 div.sk-text-repr-fallback {display: none;}</style><div id=\"sk-container-id-1\" class=\"sk-top-container\"><div class=\"sk-text-repr-fallback\"><pre>RandomForestClassifier(random_state=42)</pre><b>In a Jupyter environment, please rerun this cell to show the HTML representation or trust the notebook. <br />On GitHub, the HTML representation is unable to render, please try loading this page with nbviewer.org.</b></div><div class=\"sk-container\" hidden><div class=\"sk-item\"><div class=\"sk-estimator sk-toggleable\"><input class=\"sk-toggleable__control sk-hidden--visually\" id=\"sk-estimator-id-1\" type=\"checkbox\" checked><label for=\"sk-estimator-id-1\" class=\"sk-toggleable__label sk-toggleable__label-arrow\">RandomForestClassifier</label><div class=\"sk-toggleable__content\"><pre>RandomForestClassifier(random_state=42)</pre></div></div></div></div></div>"
      ],
      "text/plain": [
       "RandomForestClassifier(random_state=42)"
      ]
     },
     "execution_count": 16,
     "metadata": {},
     "output_type": "execute_result"
    }
   ],
   "source": [
    "model = RandomForestClassifier(n_estimators=100, random_state=42)\n",
    "model.fit(X_train, y_train)\n"
   ]
  },
  {
   "cell_type": "code",
   "execution_count": 17,
   "id": "133b3df0-e710-490b-a468-dc2a9eafed66",
   "metadata": {},
   "outputs": [
    {
     "name": "stdout",
     "output_type": "stream",
     "text": [
      "              precision    recall  f1-score   support\n",
      "\n",
      "    negative       0.50      0.29      0.36         7\n",
      "     neutral       0.00      0.00      0.00         2\n",
      "    positive       0.64      0.64      0.64        11\n",
      "\n",
      "    accuracy                           0.45        20\n",
      "   macro avg       0.38      0.31      0.33        20\n",
      "weighted avg       0.53      0.45      0.48        20\n",
      "\n"
     ]
    }
   ],
   "source": [
    "#Evaluate\n",
    "y_pred = model.predict(X_test)\n",
    "print(classification_report(y_test, y_pred, target_names=le.classes_))\n"
   ]
  },
  {
   "cell_type": "code",
   "execution_count": 18,
   "id": "b82268aa-3286-45f0-ac9f-cde514d35bc4",
   "metadata": {},
   "outputs": [
    {
     "name": "stdout",
     "output_type": "stream",
     "text": [
      "              precision    recall  f1-score   support\n",
      "\n",
      "    negative       0.50      0.57      0.53         7\n",
      "     neutral       0.00      0.00      0.00         2\n",
      "    positive       0.80      0.36      0.50        11\n",
      "\n",
      "    accuracy                           0.40        20\n",
      "   macro avg       0.43      0.31      0.34        20\n",
      "weighted avg       0.61      0.40      0.46        20\n",
      "\n"
     ]
    }
   ],
   "source": [
    "from sklearn.svm import SVC\n",
    "from sklearn.metrics import classification_report\n",
    "\n",
    "# Train the SVM model\n",
    "svm_model = SVC(kernel='linear', random_state=42)\n",
    "svm_model.fit(X_train, y_train)\n",
    "\n",
    "# Predict and evaluate\n",
    "y_pred_svm = svm_model.predict(X_test)\n",
    "print(classification_report(y_test, y_pred_svm, target_names=le.classes_))\n"
   ]
  },
  {
   "cell_type": "code",
   "execution_count": 19,
   "id": "b259ce70-ae81-4f4b-b2f2-ef23cd7c6f04",
   "metadata": {},
   "outputs": [
    {
     "name": "stderr",
     "output_type": "stream",
     "text": [
      "/home/9316b2fe-a8d9-44bb-9a86-a1e0d1f932de/.local/lib/python3.10/site-packages/sklearn/metrics/_classification.py:1344: UndefinedMetricWarning: Precision and F-score are ill-defined and being set to 0.0 in labels with no predicted samples. Use `zero_division` parameter to control this behavior.\n",
      "  _warn_prf(average, modifier, msg_start, len(result))\n",
      "/home/9316b2fe-a8d9-44bb-9a86-a1e0d1f932de/.local/lib/python3.10/site-packages/sklearn/metrics/_classification.py:1344: UndefinedMetricWarning: Precision and F-score are ill-defined and being set to 0.0 in labels with no predicted samples. Use `zero_division` parameter to control this behavior.\n",
      "  _warn_prf(average, modifier, msg_start, len(result))\n",
      "/home/9316b2fe-a8d9-44bb-9a86-a1e0d1f932de/.local/lib/python3.10/site-packages/sklearn/metrics/_classification.py:1344: UndefinedMetricWarning: Precision and F-score are ill-defined and being set to 0.0 in labels with no predicted samples. Use `zero_division` parameter to control this behavior.\n",
      "  _warn_prf(average, modifier, msg_start, len(result))\n",
      "/home/9316b2fe-a8d9-44bb-9a86-a1e0d1f932de/.local/lib/python3.10/site-packages/sklearn/metrics/_classification.py:1344: UndefinedMetricWarning: Precision and F-score are ill-defined and being set to 0.0 in labels with no predicted samples. Use `zero_division` parameter to control this behavior.\n",
      "  _warn_prf(average, modifier, msg_start, len(result))\n",
      "/home/9316b2fe-a8d9-44bb-9a86-a1e0d1f932de/.local/lib/python3.10/site-packages/sklearn/metrics/_classification.py:1344: UndefinedMetricWarning: Precision and F-score are ill-defined and being set to 0.0 in labels with no predicted samples. Use `zero_division` parameter to control this behavior.\n",
      "  _warn_prf(average, modifier, msg_start, len(result))\n",
      "/home/9316b2fe-a8d9-44bb-9a86-a1e0d1f932de/.local/lib/python3.10/site-packages/sklearn/metrics/_classification.py:1344: UndefinedMetricWarning: Precision and F-score are ill-defined and being set to 0.0 in labels with no predicted samples. Use `zero_division` parameter to control this behavior.\n",
      "  _warn_prf(average, modifier, msg_start, len(result))\n",
      "/home/9316b2fe-a8d9-44bb-9a86-a1e0d1f932de/.local/lib/python3.10/site-packages/sklearn/metrics/_classification.py:1344: UndefinedMetricWarning: Precision and F-score are ill-defined and being set to 0.0 in labels with no predicted samples. Use `zero_division` parameter to control this behavior.\n",
      "  _warn_prf(average, modifier, msg_start, len(result))\n",
      "/home/9316b2fe-a8d9-44bb-9a86-a1e0d1f932de/.local/lib/python3.10/site-packages/sklearn/metrics/_classification.py:1344: UndefinedMetricWarning: Precision and F-score are ill-defined and being set to 0.0 in labels with no predicted samples. Use `zero_division` parameter to control this behavior.\n",
      "  _warn_prf(average, modifier, msg_start, len(result))\n",
      "/home/9316b2fe-a8d9-44bb-9a86-a1e0d1f932de/.local/lib/python3.10/site-packages/sklearn/metrics/_classification.py:1344: UndefinedMetricWarning: Precision and F-score are ill-defined and being set to 0.0 in labels with no predicted samples. Use `zero_division` parameter to control this behavior.\n",
      "  _warn_prf(average, modifier, msg_start, len(result))\n",
      "/home/9316b2fe-a8d9-44bb-9a86-a1e0d1f932de/.local/lib/python3.10/site-packages/sklearn/metrics/_classification.py:1344: UndefinedMetricWarning: Precision and F-score are ill-defined and being set to 0.0 in labels with no predicted samples. Use `zero_division` parameter to control this behavior.\n",
      "  _warn_prf(average, modifier, msg_start, len(result))\n",
      "/home/9316b2fe-a8d9-44bb-9a86-a1e0d1f932de/.local/lib/python3.10/site-packages/sklearn/metrics/_classification.py:1344: UndefinedMetricWarning: Precision and F-score are ill-defined and being set to 0.0 in labels with no predicted samples. Use `zero_division` parameter to control this behavior.\n",
      "  _warn_prf(average, modifier, msg_start, len(result))\n",
      "/home/9316b2fe-a8d9-44bb-9a86-a1e0d1f932de/.local/lib/python3.10/site-packages/sklearn/metrics/_classification.py:1344: UndefinedMetricWarning: Precision and F-score are ill-defined and being set to 0.0 in labels with no predicted samples. Use `zero_division` parameter to control this behavior.\n",
      "  _warn_prf(average, modifier, msg_start, len(result))\n",
      "/home/9316b2fe-a8d9-44bb-9a86-a1e0d1f932de/.local/lib/python3.10/site-packages/xgboost/training.py:183: UserWarning: [17:35:48] WARNING: /workspace/src/learner.cc:738: \n",
      "Parameters: { \"use_label_encoder\" } are not used.\n",
      "\n",
      "  bst.update(dtrain, iteration=i, fobj=obj)\n"
     ]
    },
    {
     "data": {
      "image/png": "[encoded data removed]",
      "text/plain": [
       "<Figure size 1000x500 with 1 Axes>"
      ]
     },
     "metadata": {},
     "output_type": "display_data"
    }
   ],
   "source": [
    "# 1. Imports & Data Load\n",
    "from sklearn.model_selection import train_test_split\n",
    "from sklearn.preprocessing import LabelEncoder\n",
    "from sklearn.feature_extraction.text import TfidfVectorizer\n",
    "from sklearn.linear_model import LogisticRegression\n",
    "from sklearn.naive_bayes import MultinomialNB\n",
    "from sklearn.ensemble import RandomForestClassifier\n",
    "from sklearn.svm import LinearSVC\n",
    "from xgboost import XGBClassifier\n",
    "from sklearn.metrics import accuracy_score, classification_report\n",
    "import matplotlib.pyplot as plt\n",
    "\n",
    "# 2. Load Data\n",
    "df = pd.read_csv('social_media_engagement1.csv')\n",
    "\n",
    "# 3. Encode Target Labels\n",
    "label_encoder = LabelEncoder()\n",
    "df['label'] = label_encoder.fit_transform(df['sentiment_score'])\n",
    "\n",
    "# 4. Feature Simulation (since no real text)\n",
    "df['combined'] = (\n",
    "    df['platform'] + ' ' +\n",
    "    df['post_type'] + ' ' +\n",
    "    df['post_day'] + ' ' +\n",
    "    df['likes'].astype(str) + ' ' +\n",
    "    df['comments'].astype(str) + ' ' +\n",
    "    df['shares'].astype(str)\n",
    ")\n",
    "\n",
    "# 5. TF-IDF Transformation\n",
    "vectorizer = TfidfVectorizer()\n",
    "X = vectorizer.fit_transform(df['combined'])\n",
    "y = df['label']\n",
    "\n",
    "# 6. Train-Test Split\n",
    "X_train, X_test, y_train, y_test = train_test_split(X, y, test_size=0.2, random_state=42)\n",
    "\n",
    "# 7. Model Initialization\n",
    "models = {\n",
    "    'Logistic Regression': LogisticRegression(max_iter=200),\n",
    "    'Naive Bayes': MultinomialNB(),\n",
    "    'Random Forest': RandomForestClassifier(n_estimators=100, random_state=42),\n",
    "    'Linear SVC': LinearSVC(max_iter=1000),\n",
    "    'XGBoost': XGBClassifier(use_label_encoder=False, eval_metric='mlogloss')\n",
    "}\n",
    "\n",
    "# 8. Train, Predict, Evaluate\n",
    "results = {}\n",
    "for name, model in models.items():\n",
    "    model.fit(X_train, y_train)\n",
    "    y_pred = model.predict(X_test)\n",
    "    acc = accuracy_score(y_test, y_pred)\n",
    "    report = classification_report(y_test, y_pred, output_dict=True)\n",
    "    results[name] = {\n",
    "        'accuracy': acc,\n",
    "        'f1-score': report['weighted avg']['f1-score']\n",
    "    }\n",
    "\n",
    "# 9. Results Visualization\n",
    "df_results = pd.DataFrame(results).T\n",
    "df_results.plot(kind='bar', figsize=(10, 5), title='Model Comparison')\n",
    "plt.ylabel('Score')\n",
    "plt.ylim(0, 1.0)\n",
    "plt.xticks(rotation=45)\n",
    "plt.grid(axis='y')\n",
    "plt.tight_layout()\n",
    "plt.show()\n"
   ]
  },
  {
   "cell_type": "code",
   "execution_count": null,
   "id": "04ae5f14-2724-4401-9cc9-c59c0fdac324",
   "metadata": {},
   "outputs": [],
   "source": []
  },
  {
   "cell_type": "code",
   "execution_count": null,
   "id": "26dc335d-e22f-4bc6-ae19-1325d3581374",
   "metadata": {},
   "outputs": [],
   "source": []
  },
  {
   "cell_type": "code",
   "execution_count": null,
   "id": "4710193c-a30a-4a88-89f6-a9c7ac5345c2",
   "metadata": {},
   "outputs": [],
   "source": []
  }
 ],
 "metadata": {
  "kernelspec": {
   "display_name": "anaconda-2024.02-py310",
   "language": "python",
   "name": "conda-env-anaconda-2024.02-py310-py"
  },
  "language_info": {
   "codemirror_mode": {
    "name": "ipython",
    "version": 3
   },
   "file_extension": ".py",
   "mimetype": "text/x-python",
   "name": "python",
   "nbconvert_exporter": "python",
   "pygments_lexer": "ipython3",
   "version": "3.10.14"
  }
 },
 "nbformat": 4,
 "nbformat_minor": 5
}
