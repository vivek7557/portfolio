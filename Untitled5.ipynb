{
 "cells": [
  {
   "cell_type": "markdown",
   "id": "8b230106",
   "metadata": {},
   "source": [
    "some word comparison functions"
   ]
  },
  {
   "cell_type": "code",
   "execution_count": 9,
   "id": "bb938909",
   "metadata": {},
   "outputs": [],
   "source": [
    "my_dict = {'key1': 'vivek','key2':'giri' }   # making dictonary"
   ]
  },
  {
   "cell_type": "code",
   "execution_count": 10,
   "id": "9cfe2903",
   "metadata": {},
   "outputs": [
    {
     "data": {
      "text/plain": [
       "{'key1': 'vivek', 'key2': 'giri'}"
      ]
     },
     "execution_count": 10,
     "metadata": {},
     "output_type": "execute_result"
    }
   ],
   "source": [
    "my_dict"
   ]
  },
  {
   "cell_type": "code",
   "execution_count": 11,
   "id": "394781a0",
   "metadata": {},
   "outputs": [],
   "source": [
    "tuple = (1,2,3,4,5)  #making tuple"
   ]
  },
  {
   "cell_type": "code",
   "execution_count": 12,
   "id": "6e4fd2a5",
   "metadata": {},
   "outputs": [
    {
     "data": {
      "text/plain": [
       "(1, 2, 3, 4, 5)"
      ]
     },
     "execution_count": 12,
     "metadata": {},
     "output_type": "execute_result"
    }
   ],
   "source": [
    "tuple"
   ]
  },
  {
   "cell_type": "code",
   "execution_count": 14,
   "id": "0e3a9ed4",
   "metadata": {},
   "outputs": [],
   "source": [
    "my_list = [1,2,3,4,5]   #making list"
   ]
  },
  {
   "cell_type": "code",
   "execution_count": 15,
   "id": "e33367de",
   "metadata": {},
   "outputs": [
    {
     "data": {
      "text/plain": [
       "[1, 2, 3, 4, 5]"
      ]
     },
     "execution_count": 15,
     "metadata": {},
     "output_type": "execute_result"
    }
   ],
   "source": [
    "my_list"
   ]
  },
  {
   "cell_type": "markdown",
   "id": "48ff8e81",
   "metadata": {},
   "source": [
    "#rtegular expression"
   ]
  },
  {
   "cell_type": "code",
   "execution_count": 55,
   "id": "887d7f64",
   "metadata": {},
   "outputs": [],
   "source": [
    "import re # import regular expression\\\n",
    "nameage = '''gabriel is 24 and theon is 33 \n",
    "jaince is 45 and joy is 23'''"
   ]
  },
  {
   "cell_type": "code",
   "execution_count": 56,
   "id": "d0a41733",
   "metadata": {},
   "outputs": [
    {
     "data": {
      "text/plain": [
       "'gabriel is 24 and theon is 33 \\njaince is 45 and joy is 23'"
      ]
     },
     "execution_count": 56,
     "metadata": {},
     "output_type": "execute_result"
    }
   ],
   "source": [
    "nameage"
   ]
  },
  {
   "cell_type": "code",
   "execution_count": 57,
   "id": "59b4b03e",
   "metadata": {},
   "outputs": [],
   "source": [
    "ages = re.findall(r'\\d{1,3}', nameage)"
   ]
  },
  {
   "cell_type": "code",
   "execution_count": 58,
   "id": "b355dba5",
   "metadata": {},
   "outputs": [
    {
     "data": {
      "text/plain": [
       "['24', '33', '45', '23']"
      ]
     },
     "execution_count": 58,
     "metadata": {},
     "output_type": "execute_result"
    }
   ],
   "source": [
    "ages"
   ]
  },
  {
   "cell_type": "code",
   "execution_count": 59,
   "id": "e024c566",
   "metadata": {},
   "outputs": [],
   "source": [
    "names = re.findall(r'[A-Z][a-z]*',nameage)"
   ]
  },
  {
   "cell_type": "code",
   "execution_count": 60,
   "id": "bedf630a",
   "metadata": {},
   "outputs": [
    {
     "data": {
      "text/plain": [
       "[]"
      ]
     },
     "execution_count": 60,
     "metadata": {},
     "output_type": "execute_result"
    }
   ],
   "source": [
    "names"
   ]
  },
  {
   "cell_type": "code",
   "execution_count": 61,
   "id": "cd9a28db",
   "metadata": {},
   "outputs": [
    {
     "name": "stdout",
     "output_type": "stream",
     "text": [
      "{}\n"
     ]
    }
   ],
   "source": [
    "agedict={}\n",
    "x = 0\n",
    "for eachaname in names:\n",
    "    agedict[eachname] = ages[x]\n",
    "    x+=1\n",
    "        \n",
    "print(agedict)    "
   ]
  },
  {
   "cell_type": "code",
   "execution_count": 64,
   "id": "2cb6db0e",
   "metadata": {},
   "outputs": [
    {
     "name": "stdout",
     "output_type": "stream",
     "text": [
      "there is inform available\n"
     ]
    }
   ],
   "source": [
    "if re.search('inform','we need to inform him'):\n",
    "    print('there is inform available')"
   ]
  },
  {
   "cell_type": "code",
   "execution_count": 66,
   "id": "4db92ed0",
   "metadata": {},
   "outputs": [
    {
     "name": "stdout",
     "output_type": "stream",
     "text": [
      "inform\n"
     ]
    }
   ],
   "source": [
    "allinform = re.findall('inform','we need to inform him')\n",
    "for i in allinform:\n",
    "    print(i)"
   ]
  },
  {
   "cell_type": "code",
   "execution_count": 69,
   "id": "26ab7881",
   "metadata": {},
   "outputs": [
    {
     "name": "stdout",
     "output_type": "stream",
     "text": [
      "(11, 17)\n"
     ]
    }
   ],
   "source": [
    "str = 'we need to inform him'   #indexing i9nform string\n",
    "for i in re.finditer('inform',str):\n",
    "    loctup=i.span()\n",
    "print(loctup)"
   ]
  },
  {
   "cell_type": "code",
   "execution_count": 79,
   "id": "0217a76a",
   "metadata": {},
   "outputs": [
    {
     "name": "stdout",
     "output_type": "stream",
     "text": [
      "sat\n",
      "hat\n",
      "mat\n",
      "pat\n"
     ]
    }
   ],
   "source": [
    "str = 'sat ,hat ,mat ,pat'\n",
    "allstr = re.findall('[shmp]at', str)\n",
    "\n",
    "for i in allstr:\n",
    "    print(i)"
   ]
  },
  {
   "cell_type": "code",
   "execution_count": 82,
   "id": "63f3279f",
   "metadata": {},
   "outputs": [
    {
     "name": "stdout",
     "output_type": "stream",
     "text": [
      "sat\n",
      "rat\n",
      "pat\n"
     ]
    }
   ],
   "source": [
    "str = 'sat ,rat,hat,  mat, pat'\n",
    "strt = re.findall('[^h-m]at', str) # hat and mat not coming\n",
    "\n",
    "for i in strt:\n",
    "    print(i)"
   ]
  },
  {
   "cell_type": "code",
   "execution_count": 84,
   "id": "b95c0713",
   "metadata": {},
   "outputs": [
    {
     "name": "stdout",
     "output_type": "stream",
     "text": [
      "sat, food, mat, pat\n"
     ]
    }
   ],
   "source": [
    "food = 'sat, rat, mat, pat'\n",
    "regex = re.compile('[r]at') #compile new word at rat location\n",
    "food = regex.sub('food',food)\n",
    "print(food)"
   ]
  },
  {
   "cell_type": "code",
   "execution_count": 89,
   "id": "8372e81e",
   "metadata": {},
   "outputs": [
    {
     "name": "stdout",
     "output_type": "stream",
     "text": [
      "my name is \\ vivek\n",
      "<re.Match object; span=(11, 18), match='\\\\ vivek'>\n"
     ]
    }
   ],
   "source": [
    "my_random_str = 'my name is \\\\ vivek'\n",
    "print(my_random_str)\n",
    "print(re.search(r'\\\\ vivek',my_random_str))"
   ]
  },
  {
   "cell_type": "code",
   "execution_count": 98,
   "id": "92e79a5c",
   "metadata": {},
   "outputs": [
    {
     "name": "stdout",
     "output_type": "stream",
     "text": [
      "\n",
      "keep the blue \n",
      "line flag high\n",
      "\n",
      " keep the blue  line flag high \n"
     ]
    }
   ],
   "source": [
    "str1 = '''\n",
    "keep the blue                #making one line instead of two line\n",
    "line flag high\n",
    "'''\n",
    "print(str1)\n",
    "regexn = re.compile('\\n')\n",
    "str1 = regexn.sub(' ',str1)\n",
    "print(str1)"
   ]
  },
  {
   "cell_type": "code",
   "execution_count": 106,
   "id": "1044b7a3",
   "metadata": {},
   "outputs": [
    {
     "name": "stdout",
     "output_type": "stream",
     "text": [
      "matches: 1\n"
     ]
    }
   ],
   "source": [
    "randstr = '12345'\n",
    "print('matches:', len(re.findall('\\d{3}',randstr)))"
   ]
  },
  {
   "cell_type": "code",
   "execution_count": 115,
   "id": "1c7de61b",
   "metadata": {},
   "outputs": [
    {
     "name": "stdout",
     "output_type": "stream",
     "text": [
      "matches: 1\n"
     ]
    }
   ],
   "source": [
    "str3 = '123, 345, 678 876 8765123'\n",
    "print('matches:', len(re.findall('\\d{4}', str3)))   "
   ]
  },
  {
   "cell_type": "code",
   "execution_count": null,
   "id": "571a109b",
   "metadata": {},
   "outputs": [],
   "source": [
    "#w[a-zA-Z0-9]\n",
    "#W[^a-zA-Z0-9]"
   ]
  },
  {
   "cell_type": "code",
   "execution_count": 119,
   "id": "0395af05",
   "metadata": {},
   "outputs": [
    {
     "name": "stdout",
     "output_type": "stream",
     "text": [
      "this is my phone number\n"
     ]
    }
   ],
   "source": [
    "phn = '123-456-789'\n",
    "if re.search('\\w{3}-\\w{3}-\\w{3}', phn):\n",
    "    print('this is my phone number')"
   ]
  },
  {
   "cell_type": "code",
   "execution_count": 121,
   "id": "3df4b11e",
   "metadata": {},
   "outputs": [
    {
     "name": "stdout",
     "output_type": "stream",
     "text": [
      "this is valid\n"
     ]
    }
   ],
   "source": [
    "re.search('\\w{2,20}\\s\\w{2,20}', 'vivek giri')\n",
    "print('this is valid')"
   ]
  },
  {
   "cell_type": "markdown",
   "id": "b68d10de",
   "metadata": {},
   "source": [
    "web scraping"
   ]
  },
  {
   "cell_type": "code",
   "execution_count": 123,
   "id": "91c0818b",
   "metadata": {},
   "outputs": [],
   "source": [
    "import urllib.request\n",
    "from re import findall"
   ]
  },
  {
   "cell_type": "code",
   "execution_count": 124,
   "id": "fe62029f",
   "metadata": {
    "scrolled": true
   },
   "outputs": [
    {
     "ename": "SyntaxError",
     "evalue": "invalid syntax (60741479.py, line 1)",
     "output_type": "error",
     "traceback": [
      "\u001b[1;36m  File \u001b[1;32m\"C:\\Users\\qw\\AppData\\Local\\Temp\\ipykernel_9512\\60741479.py\"\u001b[1;36m, line \u001b[1;32m1\u001b[0m\n\u001b[1;33m    url = #give url\u001b[0m\n\u001b[1;37m          ^\u001b[0m\n\u001b[1;31mSyntaxError\u001b[0m\u001b[1;31m:\u001b[0m invalid syntax\n"
     ]
    }
   ],
   "source": [
    "url = #give url \n",
    "response = urllib.request.urlopen(url)\n",
    "html = response.read()\n",
    "htmlstr = html.decode()\n",
    "pdata = findall('\\(\\d{3}\\ \\d{3}- \\d{4}', htmlstr)\n",
    "for item in pdata:\n",
    "    print(item)"
   ]
  }
 ],
 "metadata": {
  "kernelspec": {
   "display_name": "Python 3 (ipykernel)",
   "language": "python",
   "name": "python3"
  },
  "language_info": {
   "codemirror_mode": {
    "name": "ipython",
    "version": 3
   },
   "file_extension": ".py",
   "mimetype": "text/x-python",
   "name": "python",
   "nbconvert_exporter": "python",
   "pygments_lexer": "ipython3",
   "version": "3.9.13"
  }
 },
 "nbformat": 4,
 "nbformat_minor": 5
}
