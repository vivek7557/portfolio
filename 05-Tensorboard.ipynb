{
 "cells": [
  {
   "cell_type": "markdown",
   "metadata": {},
   "source": [
    "<a href=\"https://www.pieriandata.com\"><img src=\"../Pierian_Data_Logo.PNG\"></a>\n",
    "<strong><center>Copyright by Pierian Data Inc.</center></strong> \n",
    "<strong><center>Created by Jose Marcial Portilla.</center></strong>"
   ]
  },
  {
   "cell_type": "markdown",
   "metadata": {},
   "source": [
    "# Tensorboard\n",
    "\n",
    "---\n",
    "---\n",
    "\n",
    "**NOTE: You must watch the corresponding video to understand this lecture. This notebook can't serve as a full guide. Please watch the video BEFORE posting questions to the QA forum.**\n",
    "\n",
    "---\n",
    "---\n",
    "\n",
    "Let's explore the built in data visualization capabilities that come with Tensorboard.\n",
    "\n",
    "Full official tutorial available here: https://www.tensorflow.org/tensorboard/get_started\n",
    "\n",
    "## Data"
   ]
  },
  {
   "cell_type": "code",
   "execution_count": 1,
   "metadata": {},
   "outputs": [],
   "source": [
    "import pandas as pd\n",
    "import numpy as np"
   ]
  },
  {
   "cell_type": "code",
   "execution_count": 2,
   "metadata": {},
   "outputs": [],
   "source": [
    "df = pd.read_csv('../DATA/cancer_classification.csv')"
   ]
  },
  {
   "cell_type": "markdown",
   "metadata": {},
   "source": [
    "### Train Test Split"
   ]
  },
  {
   "cell_type": "code",
   "execution_count": 3,
   "metadata": {},
   "outputs": [],
   "source": [
    "X = df.drop('benign_0__mal_1',axis=1).values\n",
    "y = df['benign_0__mal_1'].values"
   ]
  },
  {
   "cell_type": "code",
   "execution_count": 4,
   "metadata": {},
   "outputs": [],
   "source": [
    "from sklearn.model_selection import train_test_split"
   ]
  },
  {
   "cell_type": "code",
   "execution_count": 5,
   "metadata": {},
   "outputs": [],
   "source": [
    "X_train, X_test, y_train, y_test = train_test_split(X,y,test_size=0.25,random_state=101)"
   ]
  },
  {
   "cell_type": "markdown",
   "metadata": {},
   "source": [
    "\n",
    "### Scaling Data"
   ]
  },
  {
   "cell_type": "code",
   "execution_count": 6,
   "metadata": {},
   "outputs": [],
   "source": [
    "from sklearn.preprocessing import MinMaxScaler"
   ]
  },
  {
   "cell_type": "code",
   "execution_count": 7,
   "metadata": {},
   "outputs": [],
   "source": [
    "scaler = MinMaxScaler()"
   ]
  },
  {
   "cell_type": "code",
   "execution_count": 8,
   "metadata": {},
   "outputs": [
    {
     "data": {
      "text/plain": [
       "MinMaxScaler()"
      ]
     },
     "execution_count": 8,
     "metadata": {},
     "output_type": "execute_result"
    }
   ],
   "source": [
    "scaler.fit(X_train)"
   ]
  },
  {
   "cell_type": "code",
   "execution_count": 9,
   "metadata": {},
   "outputs": [],
   "source": [
    "X_train = scaler.transform(X_train)\n",
    "X_test = scaler.transform(X_test)"
   ]
  },
  {
   "cell_type": "markdown",
   "metadata": {},
   "source": [
    "## Creating the Model"
   ]
  },
  {
   "cell_type": "code",
   "execution_count": 10,
   "metadata": {},
   "outputs": [],
   "source": [
    "import tensorflow as tf\n",
    "from tensorflow.keras.models import Sequential\n",
    "from tensorflow.keras.layers import Dense, Activation,Dropout"
   ]
  },
  {
   "cell_type": "code",
   "execution_count": 11,
   "metadata": {},
   "outputs": [],
   "source": [
    "from tensorflow.keras.callbacks import EarlyStopping,TensorBoard"
   ]
  },
  {
   "cell_type": "code",
   "execution_count": 12,
   "metadata": {},
   "outputs": [],
   "source": [
    "early_stop = EarlyStopping(monitor='val_loss', mode='min', verbose=1, patience=25)"
   ]
  },
  {
   "cell_type": "code",
   "execution_count": 13,
   "metadata": {},
   "outputs": [
    {
     "data": {
      "text/plain": [
       "'C:\\\\Users\\\\qw\\\\Downloads\\\\TensorFlow_FILES\\\\ANNs'"
      ]
     },
     "execution_count": 13,
     "metadata": {},
     "output_type": "execute_result"
    }
   ],
   "source": [
    "pwd"
   ]
  },
  {
   "cell_type": "markdown",
   "metadata": {},
   "source": [
    "## Creating the Tensorboard Callback\n",
    "\n",
    "TensorBoard is a visualization tool provided with TensorFlow.\n",
    "\n",
    "This callback logs events for TensorBoard, including:\n",
    "* Metrics summary plots\n",
    "* Training graph visualization\n",
    "* Activation histograms\n",
    "* Sampled profiling\n",
    "\n",
    "If you have installed TensorFlow with pip, you should be able\n",
    "to launch TensorBoard from the command line:\n",
    "\n",
    "```sh\n",
    "tensorboard --logdir=path_to_your_logs\n",
    "```\n",
    "\n",
    "You can find more information about TensorBoard\n",
    "[here](https://www.tensorflow.org/tensorboard/).\n",
    "\n",
    "    Arguments:\n",
    "        log_dir: the path of the directory where to save the log files to be\n",
    "          parsed by TensorBoard.\n",
    "        histogram_freq: frequency (in epochs) at which to compute activation and\n",
    "          weight histograms for the layers of the model. If set to 0, histograms\n",
    "          won't be computed. Validation data (or split) must be specified for\n",
    "          histogram visualizations.\n",
    "        write_graph: whether to visualize the graph in TensorBoard. The log file\n",
    "          can become quite large when write_graph is set to True.\n",
    "        write_images: whether to write model weights to visualize as image in\n",
    "          TensorBoard.\n",
    "        update_freq: `'batch'` or `'epoch'` or integer. When using `'batch'`,\n",
    "          writes the losses and metrics to TensorBoard after each batch. The same\n",
    "          applies for `'epoch'`. If using an integer, let's say `1000`, the\n",
    "          callback will write the metrics and losses to TensorBoard every 1000\n",
    "          samples. Note that writing too frequently to TensorBoard can slow down\n",
    "          your training.\n",
    "        profile_batch: Profile the batch to sample compute characteristics. By\n",
    "          default, it will profile the second batch. Set profile_batch=0 to\n",
    "          disable profiling. Must run in TensorFlow eager mode.\n",
    "        embeddings_freq: frequency (in epochs) at which embedding layers will\n",
    "          be visualized. If set to 0, embeddings won't be visualized.\n",
    "       "
   ]
  },
  {
   "cell_type": "code",
   "execution_count": 14,
   "metadata": {},
   "outputs": [],
   "source": [
    "from datetime import datetime"
   ]
  },
  {
   "cell_type": "code",
   "execution_count": 15,
   "metadata": {},
   "outputs": [
    {
     "data": {
      "text/plain": [
       "'2023-04-07--1408'"
      ]
     },
     "execution_count": 15,
     "metadata": {},
     "output_type": "execute_result"
    }
   ],
   "source": [
    "datetime.now().strftime(\"%Y-%m-%d--%H%M\")"
   ]
  },
  {
   "cell_type": "code",
   "execution_count": 16,
   "metadata": {},
   "outputs": [],
   "source": [
    "# WINDOWS: Use \"logs\\\\fit\"\n",
    "# MACOS/LINUX: Use \"logs\\fit\"\n",
    "\n",
    "log_directory = 'logs\\\\fit'\n",
    "\n",
    "# OPTIONAL: ADD A TIMESTAMP FOR UNIQUE FOLDER\n",
    "# timestamp = datetime.now().strftime(\"%Y-%m-%d--%H%M\")\n",
    "# log_directory = log_directory + '\\\\' + timestamp\n",
    "\n",
    "\n",
    "board = TensorBoard(log_dir=log_directory,histogram_freq=1,\n",
    "    write_graph=True,\n",
    "    write_images=True,\n",
    "    update_freq='epoch',\n",
    "    profile_batch=2,\n",
    "    embeddings_freq=1)"
   ]
  },
  {
   "cell_type": "markdown",
   "metadata": {},
   "source": [
    "Now create the model layers:"
   ]
  },
  {
   "cell_type": "code",
   "execution_count": 17,
   "metadata": {},
   "outputs": [],
   "source": [
    "model = Sequential()\n",
    "model.add(Dense(units=30,activation='relu'))\n",
    "model.add(Dropout(0.5))\n",
    "model.add(Dense(units=15,activation='relu'))\n",
    "model.add(Dropout(0.5))\n",
    "model.add(Dense(units=1,activation='sigmoid'))\n",
    "model.compile(loss='binary_crossentropy', optimizer='adam')"
   ]
  },
  {
   "cell_type": "markdown",
   "metadata": {},
   "source": [
    "## Train the Model"
   ]
  },
  {
   "cell_type": "code",
   "execution_count": 18,
   "metadata": {},
   "outputs": [
    {
     "name": "stdout",
     "output_type": "stream",
     "text": [
      "Epoch 1/600\n",
      "14/14 [==============================] - 7s 209ms/step - loss: 0.7031 - val_loss: 0.6707\n",
      "Epoch 2/600\n",
      "14/14 [==============================] - 1s 46ms/step - loss: 0.6798 - val_loss: 0.6415\n",
      "Epoch 3/600\n",
      "14/14 [==============================] - 1s 41ms/step - loss: 0.6461 - val_loss: 0.6235\n",
      "Epoch 4/600\n",
      "14/14 [==============================] - 1s 43ms/step - loss: 0.6417 - val_loss: 0.5961\n",
      "Epoch 5/600\n",
      "14/14 [==============================] - 1s 40ms/step - loss: 0.6273 - val_loss: 0.5744\n",
      "Epoch 6/600\n",
      "14/14 [==============================] - 1s 46ms/step - loss: 0.6106 - val_loss: 0.5550\n",
      "Epoch 7/600\n",
      "14/14 [==============================] - 1s 43ms/step - loss: 0.5847 - val_loss: 0.5351\n",
      "Epoch 8/600\n",
      "14/14 [==============================] - 1s 46ms/step - loss: 0.5669 - val_loss: 0.5083\n",
      "Epoch 9/600\n",
      "14/14 [==============================] - 1s 53ms/step - loss: 0.5308 - val_loss: 0.4773\n",
      "Epoch 10/600\n",
      "14/14 [==============================] - 1s 72ms/step - loss: 0.5074 - val_loss: 0.4464\n",
      "Epoch 11/600\n",
      "14/14 [==============================] - 1s 42ms/step - loss: 0.4962 - val_loss: 0.4224\n",
      "Epoch 12/600\n",
      "14/14 [==============================] - 1s 60ms/step - loss: 0.4867 - val_loss: 0.4010\n",
      "Epoch 13/600\n",
      "14/14 [==============================] - 1s 58ms/step - loss: 0.4461 - val_loss: 0.3773\n",
      "Epoch 14/600\n",
      "14/14 [==============================] - 1s 42ms/step - loss: 0.4555 - val_loss: 0.3530\n",
      "Epoch 15/600\n",
      "14/14 [==============================] - 1s 42ms/step - loss: 0.4094 - val_loss: 0.3284\n",
      "Epoch 16/600\n",
      "14/14 [==============================] - 1s 40ms/step - loss: 0.4093 - val_loss: 0.3113\n",
      "Epoch 17/600\n",
      "14/14 [==============================] - 1s 51ms/step - loss: 0.4104 - val_loss: 0.2992\n",
      "Epoch 18/600\n",
      "14/14 [==============================] - 1s 63ms/step - loss: 0.3766 - val_loss: 0.2802\n",
      "Epoch 19/600\n",
      "14/14 [==============================] - 1s 45ms/step - loss: 0.3407 - val_loss: 0.2672\n",
      "Epoch 20/600\n",
      "14/14 [==============================] - 1s 40ms/step - loss: 0.3507 - val_loss: 0.2468\n",
      "Epoch 21/600\n",
      "14/14 [==============================] - 1s 42ms/step - loss: 0.3426 - val_loss: 0.2320\n",
      "Epoch 22/600\n",
      "14/14 [==============================] - 1s 56ms/step - loss: 0.3480 - val_loss: 0.2278\n",
      "Epoch 23/600\n",
      "14/14 [==============================] - 0s 37ms/step - loss: 0.3185 - val_loss: 0.2168\n",
      "Epoch 24/600\n",
      "14/14 [==============================] - 1s 56ms/step - loss: 0.2924 - val_loss: 0.2044\n",
      "Epoch 25/600\n",
      "14/14 [==============================] - 1s 48ms/step - loss: 0.3087 - val_loss: 0.2035\n",
      "Epoch 26/600\n",
      "14/14 [==============================] - 1s 45ms/step - loss: 0.2859 - val_loss: 0.2053\n",
      "Epoch 27/600\n",
      "14/14 [==============================] - 1s 61ms/step - loss: 0.2918 - val_loss: 0.1886\n",
      "Epoch 28/600\n",
      "14/14 [==============================] - 1s 52ms/step - loss: 0.2642 - val_loss: 0.1820\n",
      "Epoch 29/600\n",
      "14/14 [==============================] - 1s 58ms/step - loss: 0.2766 - val_loss: 0.1793\n",
      "Epoch 30/600\n",
      "14/14 [==============================] - 1s 57ms/step - loss: 0.2537 - val_loss: 0.1792\n",
      "Epoch 31/600\n",
      "14/14 [==============================] - 1s 48ms/step - loss: 0.2825 - val_loss: 0.1778\n",
      "Epoch 32/600\n",
      "14/14 [==============================] - 1s 64ms/step - loss: 0.2547 - val_loss: 0.1576\n",
      "Epoch 33/600\n",
      "14/14 [==============================] - 1s 72ms/step - loss: 0.2565 - val_loss: 0.1513\n",
      "Epoch 34/600\n",
      "14/14 [==============================] - 1s 65ms/step - loss: 0.2469 - val_loss: 0.1600\n",
      "Epoch 35/600\n",
      "14/14 [==============================] - 1s 64ms/step - loss: 0.2250 - val_loss: 0.1463\n",
      "Epoch 36/600\n",
      "14/14 [==============================] - 1s 64ms/step - loss: 0.2532 - val_loss: 0.1471\n",
      "Epoch 37/600\n",
      "14/14 [==============================] - 1s 42ms/step - loss: 0.2112 - val_loss: 0.1504\n",
      "Epoch 38/600\n",
      "14/14 [==============================] - 1s 63ms/step - loss: 0.2197 - val_loss: 0.1411\n",
      "Epoch 39/600\n",
      "14/14 [==============================] - 1s 54ms/step - loss: 0.2232 - val_loss: 0.1332\n",
      "Epoch 40/600\n",
      "14/14 [==============================] - 1s 68ms/step - loss: 0.2139 - val_loss: 0.1309\n",
      "Epoch 41/600\n",
      "14/14 [==============================] - 1s 65ms/step - loss: 0.2026 - val_loss: 0.1245\n",
      "Epoch 42/600\n",
      "14/14 [==============================] - 1s 57ms/step - loss: 0.2146 - val_loss: 0.1379\n",
      "Epoch 43/600\n",
      "14/14 [==============================] - 1s 38ms/step - loss: 0.2105 - val_loss: 0.1309\n",
      "Epoch 44/600\n",
      "14/14 [==============================] - 1s 47ms/step - loss: 0.1849 - val_loss: 0.1165\n",
      "Epoch 45/600\n",
      "14/14 [==============================] - 1s 39ms/step - loss: 0.2076 - val_loss: 0.1162\n",
      "Epoch 46/600\n",
      "14/14 [==============================] - 1s 41ms/step - loss: 0.2060 - val_loss: 0.1420\n",
      "Epoch 47/600\n",
      "14/14 [==============================] - 0s 37ms/step - loss: 0.1917 - val_loss: 0.1121\n",
      "Epoch 48/600\n",
      "14/14 [==============================] - 0s 37ms/step - loss: 0.1905 - val_loss: 0.1168\n",
      "Epoch 49/600\n",
      "14/14 [==============================] - 1s 51ms/step - loss: 0.2065 - val_loss: 0.1132\n",
      "Epoch 50/600\n",
      "14/14 [==============================] - 0s 38ms/step - loss: 0.1720 - val_loss: 0.1054\n",
      "Epoch 51/600\n",
      "14/14 [==============================] - 1s 45ms/step - loss: 0.1847 - val_loss: 0.1199\n",
      "Epoch 52/600\n",
      "14/14 [==============================] - 1s 61ms/step - loss: 0.1575 - val_loss: 0.1174\n",
      "Epoch 53/600\n",
      "14/14 [==============================] - 1s 51ms/step - loss: 0.1479 - val_loss: 0.1052\n",
      "Epoch 54/600\n",
      "14/14 [==============================] - 1s 73ms/step - loss: 0.1784 - val_loss: 0.1023\n",
      "Epoch 55/600\n",
      "14/14 [==============================] - 1s 63ms/step - loss: 0.1790 - val_loss: 0.1054\n",
      "Epoch 56/600\n",
      "14/14 [==============================] - 1s 50ms/step - loss: 0.1465 - val_loss: 0.1043\n",
      "Epoch 57/600\n",
      "14/14 [==============================] - 1s 51ms/step - loss: 0.1610 - val_loss: 0.1013\n",
      "Epoch 58/600\n",
      "14/14 [==============================] - 1s 44ms/step - loss: 0.1619 - val_loss: 0.0969\n",
      "Epoch 59/600\n",
      "14/14 [==============================] - 1s 54ms/step - loss: 0.1553 - val_loss: 0.0939\n",
      "Epoch 60/600\n",
      "14/14 [==============================] - 1s 50ms/step - loss: 0.1427 - val_loss: 0.0956\n",
      "Epoch 61/600\n",
      "14/14 [==============================] - 1s 39ms/step - loss: 0.1353 - val_loss: 0.1002\n",
      "Epoch 62/600\n",
      "14/14 [==============================] - 1s 48ms/step - loss: 0.1458 - val_loss: 0.0891\n",
      "Epoch 63/600\n",
      "14/14 [==============================] - 1s 47ms/step - loss: 0.1474 - val_loss: 0.1021\n",
      "Epoch 64/600\n",
      "14/14 [==============================] - 1s 55ms/step - loss: 0.1525 - val_loss: 0.0931\n",
      "Epoch 65/600\n",
      "14/14 [==============================] - 1s 56ms/step - loss: 0.1511 - val_loss: 0.0894\n",
      "Epoch 66/600\n",
      "14/14 [==============================] - 1s 54ms/step - loss: 0.1373 - val_loss: 0.0921\n",
      "Epoch 67/600\n",
      "14/14 [==============================] - 1s 68ms/step - loss: 0.1361 - val_loss: 0.1022\n",
      "Epoch 68/600\n",
      "14/14 [==============================] - 1s 68ms/step - loss: 0.1167 - val_loss: 0.0855\n",
      "Epoch 69/600\n",
      "14/14 [==============================] - 1s 68ms/step - loss: 0.1267 - val_loss: 0.0837\n",
      "Epoch 70/600\n",
      "14/14 [==============================] - 1s 63ms/step - loss: 0.1159 - val_loss: 0.0948\n",
      "Epoch 71/600\n",
      "14/14 [==============================] - 1s 64ms/step - loss: 0.1240 - val_loss: 0.0988\n",
      "Epoch 72/600\n",
      "14/14 [==============================] - 1s 80ms/step - loss: 0.1222 - val_loss: 0.0879\n",
      "Epoch 73/600\n",
      "14/14 [==============================] - 1s 98ms/step - loss: 0.1243 - val_loss: 0.0936\n",
      "Epoch 74/600\n",
      "14/14 [==============================] - 1s 92ms/step - loss: 0.1222 - val_loss: 0.0797\n",
      "Epoch 75/600\n",
      "14/14 [==============================] - 1s 77ms/step - loss: 0.1188 - val_loss: 0.0822\n",
      "Epoch 76/600\n",
      "14/14 [==============================] - 1s 73ms/step - loss: 0.1147 - val_loss: 0.0889\n",
      "Epoch 77/600\n",
      "14/14 [==============================] - 1s 74ms/step - loss: 0.1164 - val_loss: 0.0860\n",
      "Epoch 78/600\n",
      "14/14 [==============================] - 1s 77ms/step - loss: 0.1382 - val_loss: 0.0868\n",
      "Epoch 79/600\n",
      "14/14 [==============================] - 1s 82ms/step - loss: 0.1289 - val_loss: 0.0886\n",
      "Epoch 80/600\n",
      "14/14 [==============================] - 1s 68ms/step - loss: 0.1192 - val_loss: 0.0845\n",
      "Epoch 81/600\n",
      "14/14 [==============================] - 1s 49ms/step - loss: 0.1125 - val_loss: 0.0788\n",
      "Epoch 82/600\n"
     ]
    },
    {
     "name": "stdout",
     "output_type": "stream",
     "text": [
      "14/14 [==============================] - 1s 55ms/step - loss: 0.1116 - val_loss: 0.0800\n",
      "Epoch 83/600\n",
      "14/14 [==============================] - 1s 51ms/step - loss: 0.1280 - val_loss: 0.0853\n",
      "Epoch 84/600\n",
      "14/14 [==============================] - 1s 58ms/step - loss: 0.1064 - val_loss: 0.0837\n",
      "Epoch 85/600\n",
      "14/14 [==============================] - 1s 75ms/step - loss: 0.1091 - val_loss: 0.0946\n",
      "Epoch 86/600\n",
      "14/14 [==============================] - 1s 82ms/step - loss: 0.1078 - val_loss: 0.0764\n",
      "Epoch 87/600\n",
      "14/14 [==============================] - 1s 67ms/step - loss: 0.1365 - val_loss: 0.0797\n",
      "Epoch 88/600\n",
      "14/14 [==============================] - 1s 71ms/step - loss: 0.1150 - val_loss: 0.0850\n",
      "Epoch 89/600\n",
      "14/14 [==============================] - 1s 63ms/step - loss: 0.1096 - val_loss: 0.0737\n",
      "Epoch 90/600\n",
      "14/14 [==============================] - 1s 54ms/step - loss: 0.1145 - val_loss: 0.0826\n",
      "Epoch 91/600\n",
      "14/14 [==============================] - 1s 85ms/step - loss: 0.1150 - val_loss: 0.0778\n",
      "Epoch 92/600\n",
      "14/14 [==============================] - 1s 82ms/step - loss: 0.1012 - val_loss: 0.0762\n",
      "Epoch 93/600\n",
      "14/14 [==============================] - 1s 80ms/step - loss: 0.1343 - val_loss: 0.0743\n",
      "Epoch 94/600\n",
      "14/14 [==============================] - 1s 89ms/step - loss: 0.1013 - val_loss: 0.0850\n",
      "Epoch 95/600\n",
      "14/14 [==============================] - 1s 81ms/step - loss: 0.1176 - val_loss: 0.0780\n",
      "Epoch 96/600\n",
      "14/14 [==============================] - 1s 73ms/step - loss: 0.1045 - val_loss: 0.0759\n",
      "Epoch 97/600\n",
      "14/14 [==============================] - 1s 69ms/step - loss: 0.1235 - val_loss: 0.1074\n",
      "Epoch 98/600\n",
      "14/14 [==============================] - 1s 98ms/step - loss: 0.1086 - val_loss: 0.0717\n",
      "Epoch 99/600\n",
      "14/14 [==============================] - 1s 47ms/step - loss: 0.1028 - val_loss: 0.0739\n",
      "Epoch 100/600\n",
      "14/14 [==============================] - 1s 53ms/step - loss: 0.0996 - val_loss: 0.1058\n",
      "Epoch 101/600\n",
      "14/14 [==============================] - 1s 49ms/step - loss: 0.1129 - val_loss: 0.0778\n",
      "Epoch 102/600\n",
      "14/14 [==============================] - 1s 48ms/step - loss: 0.1109 - val_loss: 0.0875\n",
      "Epoch 103/600\n",
      "14/14 [==============================] - 1s 47ms/step - loss: 0.1009 - val_loss: 0.0981\n",
      "Epoch 104/600\n",
      "14/14 [==============================] - 1s 51ms/step - loss: 0.0802 - val_loss: 0.0758\n",
      "Epoch 105/600\n",
      "14/14 [==============================] - 1s 51ms/step - loss: 0.1099 - val_loss: 0.0812\n",
      "Epoch 106/600\n",
      "14/14 [==============================] - 1s 57ms/step - loss: 0.0862 - val_loss: 0.0929\n",
      "Epoch 107/600\n",
      "14/14 [==============================] - 1s 48ms/step - loss: 0.0927 - val_loss: 0.0793\n",
      "Epoch 108/600\n",
      "14/14 [==============================] - 1s 53ms/step - loss: 0.0833 - val_loss: 0.0786\n",
      "Epoch 109/600\n",
      "14/14 [==============================] - 1s 53ms/step - loss: 0.0918 - val_loss: 0.0798\n",
      "Epoch 110/600\n",
      "14/14 [==============================] - 1s 65ms/step - loss: 0.1015 - val_loss: 0.0805\n",
      "Epoch 111/600\n",
      "14/14 [==============================] - 1s 58ms/step - loss: 0.1029 - val_loss: 0.0914\n",
      "Epoch 112/600\n",
      "14/14 [==============================] - 1s 56ms/step - loss: 0.0963 - val_loss: 0.0860\n",
      "Epoch 113/600\n",
      "14/14 [==============================] - 1s 60ms/step - loss: 0.0809 - val_loss: 0.0831\n",
      "Epoch 114/600\n",
      "14/14 [==============================] - 1s 70ms/step - loss: 0.0913 - val_loss: 0.0868\n",
      "Epoch 115/600\n",
      "14/14 [==============================] - 2s 142ms/step - loss: 0.0961 - val_loss: 0.0740\n",
      "Epoch 116/600\n",
      "14/14 [==============================] - 2s 120ms/step - loss: 0.1039 - val_loss: 0.0872\n",
      "Epoch 117/600\n",
      "14/14 [==============================] - 1s 78ms/step - loss: 0.0961 - val_loss: 0.0796\n",
      "Epoch 118/600\n",
      "14/14 [==============================] - 1s 107ms/step - loss: 0.0932 - val_loss: 0.0787\n",
      "Epoch 119/600\n",
      "14/14 [==============================] - 1s 102ms/step - loss: 0.0913 - val_loss: 0.0785\n",
      "Epoch 120/600\n",
      "14/14 [==============================] - 1s 62ms/step - loss: 0.0762 - val_loss: 0.0832\n",
      "Epoch 121/600\n",
      "14/14 [==============================] - 1s 52ms/step - loss: 0.0756 - val_loss: 0.0837\n",
      "Epoch 122/600\n",
      "14/14 [==============================] - 1s 50ms/step - loss: 0.0988 - val_loss: 0.0834\n",
      "Epoch 123/600\n",
      "14/14 [==============================] - 1s 43ms/step - loss: 0.0866 - val_loss: 0.0723\n",
      "Epoch 123: early stopping\n"
     ]
    },
    {
     "data": {
      "text/plain": [
       "<keras.callbacks.History at 0x2bfd628dac0>"
      ]
     },
     "execution_count": 18,
     "metadata": {},
     "output_type": "execute_result"
    }
   ],
   "source": [
    "model.fit(x=X_train, \n",
    "          y=y_train, \n",
    "          epochs=600,\n",
    "          validation_data=(X_test, y_test), verbose=1,\n",
    "          callbacks=[early_stop,board]\n",
    "          )"
   ]
  },
  {
   "cell_type": "markdown",
   "metadata": {},
   "source": [
    "# Running Tensorboard\n"
   ]
  },
  {
   "cell_type": "markdown",
   "metadata": {},
   "source": [
    "## Running through the Command Line\n",
    "\n",
    "**Watch video to see how to run Tensorboard through a command line call.**"
   ]
  },
  {
   "cell_type": "markdown",
   "metadata": {},
   "source": [
    "Tensorboard will run locally in your browser at [http://localhost:6006/](http://localhost:6006/)\n"
   ]
  },
  {
   "cell_type": "code",
   "execution_count": 19,
   "metadata": {},
   "outputs": [
    {
     "name": "stdout",
     "output_type": "stream",
     "text": [
      "logs\\fit\n"
     ]
    }
   ],
   "source": [
    "print(log_directory)"
   ]
  },
  {
   "cell_type": "code",
   "execution_count": 20,
   "metadata": {},
   "outputs": [
    {
     "data": {
      "text/plain": [
       "'C:\\\\Users\\\\Marcial\\\\Pierian-Data-Courses\\\\TensorFlow-Two-Bootcamp\\\\03-ANNs'"
      ]
     },
     "execution_count": 20,
     "metadata": {},
     "output_type": "execute_result"
    }
   ],
   "source": [
    "pwd"
   ]
  },
  {
   "cell_type": "markdown",
   "metadata": {},
   "source": [
    "### Use cd at your command line to change directory to the file path reported back by pwd or your current .py file location.\n",
    "### Then run this code at your command line or terminal"
   ]
  },
  {
   "cell_type": "code",
   "execution_count": null,
   "metadata": {},
   "outputs": [],
   "source": [
    "tensorboard --logdir logs\\fit "
   ]
  }
 ],
 "metadata": {
  "kernelspec": {
   "display_name": "Python 3 (ipykernel)",
   "language": "python",
   "name": "python3"
  },
  "language_info": {
   "codemirror_mode": {
    "name": "ipython",
    "version": 3
   },
   "file_extension": ".py",
   "mimetype": "text/x-python",
   "name": "python",
   "nbconvert_exporter": "python",
   "pygments_lexer": "ipython3",
   "version": "3.9.13"
  }
 },
 "nbformat": 4,
 "nbformat_minor": 2
}
