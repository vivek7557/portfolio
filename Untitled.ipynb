{
 "cells": [
  {
   "cell_type": "markdown",
   "id": "ccd3c346",
   "metadata": {},
   "source": [
    "supervised learning"
   ]
  },
  {
   "cell_type": "code",
   "execution_count": null,
   "id": "48b1e90b",
   "metadata": {},
   "outputs": [],
   "source": [
    "Supervised learning is a machine learning approach that’s defined by its use of labeled datasets. \n",
    "These datasets are designed to train or “supervise” algorithms into classifying data or predicting outcomes accurately. \n",
    "Using labeled inputs and outputs, the model can measure its accuracy and learn over time."
   ]
  },
  {
   "cell_type": "code",
   "execution_count": null,
   "id": "e384f4ad",
   "metadata": {},
   "outputs": [],
   "source": [
    "Supervised learning can be separated into two types of problems when data mining: classification and regression:\n",
    "    \n",
    "    1.classification(supervised learning algorithms can be used to classify spam in a separate folder from your inbox)    \n",
    "   \n",
    "    2.regression(uses an algorithm to understand the relationship between dependent and independent variables\n",
    "                 Regression models are helpful for predicting numerical values based on different data points, \n",
    "                 such as sales revenue projections for a given business)"
   ]
  },
  {
   "cell_type": "code",
   "execution_count": null,
   "id": "5d4f0f22",
   "metadata": {},
   "outputs": [],
   "source": [
    "classification(1.Linear classifiers\n",
    "               2.support vector machines\n",
    "               3.decision trees \n",
    "                4.random forest )\n",
    "  \n",
    "    are all common types of classification algorithms.\n",
    "    \n",
    "regresssion(  1. linear regression, \n",
    "              2. logistic regression \n",
    "              3. polynomial regression )   \n",
    "\n",
    "    are all common type of regression algorithms"
   ]
  },
  {
   "cell_type": "markdown",
   "id": "4a794938",
   "metadata": {},
   "source": [
    "\n",
    "unsupervised learning\n"
   ]
  },
  {
   "cell_type": "code",
   "execution_count": null,
   "id": "0c1faf0e",
   "metadata": {},
   "outputs": [],
   "source": [
    "Unsupervised learning uses machine learning algorithms to analyze and cluster unlabeled data sets.\n",
    "These algorithms discover hidden patterns in data without the need for human intervention (hence, they are “unsupervised”)."
   ]
  },
  {
   "cell_type": "code",
   "execution_count": null,
   "id": "c60c071e",
   "metadata": {},
   "outputs": [],
   "source": [
    "Unsupervised learning models are used for three main tasks: clustering, association and dimensionality reduction:\n",
    "        \n",
    "        1.clustering( is a data mining technique for grouping unlabeled data based on their similarities or differences.\n",
    "                     For example, K-means clustering algorithms assign similar data points into groups, where the \n",
    "                     K value represents the size of the grouping and granularity. This technique is helpful for market \n",
    "                     segmentation, image compression, etc.)\n",
    "       \n",
    "        \n",
    "        2.association(is another type of unsupervised learning method that uses different rules to find relationships\n",
    "                      between variables in a given dataset. These methods are frequently used for market basket analysis \n",
    "                      and recommendation engines, along the lines of “Customers Who Bought This Item Also Bought” \n",
    "                      recommendations.)\n",
    "        \n",
    "        \n",
    "        3.dimensionality reduction(is a learning technique used when the number of features  (or dimensions) in a given dataset \n",
    "                                   is too high. It reduces the number of data inputs to a manageable size while also preserving \n",
    "                                   the data integrity. Often, this technique is used in the preprocessing data stage, such as \n",
    "                                   when autoencoders remove noise from visual data to improve picture quality)"
   ]
  },
  {
   "cell_type": "code",
   "execution_count": null,
   "id": "3a308bd5",
   "metadata": {},
   "outputs": [],
   "source": [
    "            supervised learning              differences                                       unsupervised learning\n",
    "    \n",
    "1.  Supervised learning algorithms are trained using labeled data.\t\n",
    "    Unsupervised learning algorithms are trained using unlabeled data.\n",
    "2.  Supervised learning model takes direct feedback to check if it is predicting correct output or not.\n",
    "    Unsupervised learning model does not take any feedback.\n",
    "3.  Supervised learning model predicts the output.\n",
    "    Unsupervised learning model finds the hidden patterns in data.\n",
    "4.  In supervised learning, input data is provided to the model along with the output.\n",
    "    In unsupervised learning, only input data is provided to the model.\n",
    "5.  The goal of supervised learning is to train the model so that it can predict the output when it is given new data.\n",
    "    The goal of unsupervised learning is to find the hidden patterns and useful insights from the unknown dataset.\n",
    "6.  Supervised learning needs supervision to train the model.\t\n",
    "    Unsupervised learning does not need any supervision to train the model.\n",
    "7.  Supervised learning can be categorized in Classification and Regression problems.\t\n",
    "    Unsupervised Learning can be classified in Clustering and Associations problems.\n",
    "8.  Supervised learning can be used for those cases where we know the input as well as corresponding outputs.\t\n",
    "    Unsupervised learning can be used for those cases where we have only input data and no corresponding output data.\n",
    "9.  Supervised learning model produces an accurate result.\n",
    "    Unsupervised learning model may give less accurate result as compared to supervised learning.\n",
    "10. Supervised learning is not close to true Artificial intelligence as in this, we first train the model for each data, \n",
    "    and then only it can predict the correct output.\t\n",
    "    Unsupervised learning is more close to the true Artificial Intelligence as it learns similarly as a child learns daily \n",
    "    routine things by his experiences.\n",
    "11. It includes various algorithms such as Linear Regression, Logistic Regression, Support Vector Machine, \n",
    "    Multi-class Classification, Decision tree, Bayesian Logic, etc.\t\n",
    "    It includes various algorithms such as Clustering, KNN, and Apriori algorithm.    "
   ]
  }
 ],
 "metadata": {
  "kernelspec": {
   "display_name": "Python 3 (ipykernel)",
   "language": "python",
   "name": "python3"
  },
  "language_info": {
   "codemirror_mode": {
    "name": "ipython",
    "version": 3
   },
   "file_extension": ".py",
   "mimetype": "text/x-python",
   "name": "python",
   "nbconvert_exporter": "python",
   "pygments_lexer": "ipython3",
   "version": "3.9.13"
  }
 },
 "nbformat": 4,
 "nbformat_minor": 5
}
